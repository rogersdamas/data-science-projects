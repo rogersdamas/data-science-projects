{
  "nbformat": 4,
  "nbformat_minor": 0,
  "metadata": {
    "colab": {
      "name": "Minicurso 1: Ciências de Dados e Machine Learning.ipynb",
      "provenance": []
    },
    "kernelspec": {
      "name": "python3",
      "display_name": "Python 3"
    }
  },
  "cells": [
    {
      "cell_type": "markdown",
      "metadata": {
        "id": "lUSap9XOcKMB"
      },
      "source": [
        "### **Como utilizar modelos de Machine Learning para reduzir o Churn**\n",
        "\n",
        "Empresas que têm a cultura data driven maximizam seus resultados através de informações extraídas dos dados. Ou seja, utilizam os dados para extrair informações e usam as informações para tomar decisões. \n",
        "\n",
        "\n",
        "\"*Seus clientes mais insatisfeitos são sua maior fonte de **aprendizado** (Bill Gates).*\"\n",
        "\n",
        "A taxa de retenção de clientes é um bom indicativo de qualidade do seu produto/serviço. Se o produto/serviço não é de qualidade, você irá observar uma porcentagem alta de clientes deixando de comprar ou trocando de empresa, ou seja, uma alta taxa de Churn. \n",
        "\n",
        "Mas quais são as características que leva um cliente a dar o Churn? \n",
        "\n",
        "Na parte I, desse tutorial, entendemos o problema de Churn e estabelecemos o objetivo, identificar o perfil e prever os clientes em risco de Churn.\n",
        "\n",
        "Agora nessa parte II daremos continuidade a análise e para isso utilizaremos um conjunto de dados de uma agência bancária.\n",
        "\n",
        "Recordando, para esse projeto de Data Science seguiremos essas etapas\n",
        "\n",
        "1.   Entendimento do Problema\n",
        "2.   Obtenção dos dados\n",
        "3.   Análise Exploratória e Visualização dos dados \n",
        "4.   Pré-processamento\n",
        "5.   Modelos de Machine Learning\n",
        "6.   Avaliação do modelo \n",
        "\n",
        "Na Parte I, dessa série de artigos, abordamos o problema de Churn e estabelecemos os objetivos. \n",
        "\n",
        "Se você tem dúvidas sobre o que é o Churn, corre lá para ler esse artigo. Ele te ajudará a entender a importância e o porquê estamos fazendo essas análises.\n",
        "\n",
        "**[PARTE I: Como utilizar modelos de Machine Learning para reduzir o Churn]**\n",
        "\n",
        "Agora na Parte II, dessa série de artigos, vamos executar a etapa 2 e 3, ou seja, obter, explorar e visualizar os dados.\n",
        "\n",
        "## **2. Obtenção do conjunto de dados**\n",
        "\n",
        " Os dados utilizados aqui foram extraídos do Kaggle e são dados de clientes de uma agência bancária. Utilizaremos o Google Colab, o python na nuvem, para fazer as análises.\n",
        "\n",
        "###**Permitindo o acesso do Google Colab ao Drive**\n",
        "\n",
        "Para importar os dados, que estão salvo no Google Drive, é necessário permitir o acesso do Colab. Para isso precisamos,\n",
        "1. rodar os comandos abaixo, \n",
        "2. clicar na URL que irá aparecer, \n",
        "3. permitir o acesso ao drive  \n",
        "4. copiar e colar o código de acesso no Colab."
      ]
    },
    {
      "cell_type": "code",
      "metadata": {
        "id": "IGDvayvjMgbb",
        "outputId": "a1a3b383-e450-4888-8196-91d67b782b7c",
        "colab": {
          "base_uri": "https://localhost:8080/",
          "height": 128
        }
      },
      "source": [
        "#Acesso ao drive\n",
        "from google.colab import drive\n",
        "drive.mount('/content/drive') "
      ],
      "execution_count": null,
      "outputs": [
        {
          "output_type": "stream",
          "text": [
            "Go to this URL in a browser: https://accounts.google.com/o/oauth2/auth?client_id=947318989803-6bn6qk8qdgf4n4g3pfee6491hc0brc4i.apps.googleusercontent.com&redirect_uri=urn%3aietf%3awg%3aoauth%3a2.0%3aoob&response_type=code&scope=email%20https%3a%2f%2fwww.googleapis.com%2fauth%2fdocs.test%20https%3a%2f%2fwww.googleapis.com%2fauth%2fdrive%20https%3a%2f%2fwww.googleapis.com%2fauth%2fdrive.photos.readonly%20https%3a%2f%2fwww.googleapis.com%2fauth%2fpeopleapi.readonly\n",
            "\n",
            "Enter your authorization code:\n",
            "··········\n",
            "Mounted at /content/drive\n"
          ],
          "name": "stdout"
        }
      ]
    },
    {
      "cell_type": "markdown",
      "metadata": {
        "id": "g7oC5tabeInW"
      },
      "source": [
        "###**Importando os dados**\n",
        "\n",
        "Para fazer as análise é necessário dos dados, assim precisamos importar a biblioteca pandas para processar os dados."
      ]
    },
    {
      "cell_type": "code",
      "metadata": {
        "id": "xNpsk_WDeVd9"
      },
      "source": [
        "import pandas as pd"
      ],
      "execution_count": null,
      "outputs": []
    },
    {
      "cell_type": "code",
      "metadata": {
        "id": "sId60vqReXbQ",
        "outputId": "70c0345c-51e2-4dc1-af7c-a46b791db5ba",
        "colab": {
          "base_uri": "https://localhost:8080/",
          "height": 368
        }
      },
      "source": [
        "##IMPORTANDO ARQUIVOS\n",
        "#escrevendo em um arquivo csv\n",
        "df= pd.read_csv('/content/drive/My Drive/kaggle_datasets/Churn_Modelling.csv')\n",
        "df.head(10) #visualizando as 10 primeiras linhas do dataset"
      ],
      "execution_count": null,
      "outputs": [
        {
          "output_type": "execute_result",
          "data": {
            "text/html": [
              "<div>\n",
              "<style scoped>\n",
              "    .dataframe tbody tr th:only-of-type {\n",
              "        vertical-align: middle;\n",
              "    }\n",
              "\n",
              "    .dataframe tbody tr th {\n",
              "        vertical-align: top;\n",
              "    }\n",
              "\n",
              "    .dataframe thead th {\n",
              "        text-align: right;\n",
              "    }\n",
              "</style>\n",
              "<table border=\"1\" class=\"dataframe\">\n",
              "  <thead>\n",
              "    <tr style=\"text-align: right;\">\n",
              "      <th></th>\n",
              "      <th>RowNumber</th>\n",
              "      <th>CustomerId</th>\n",
              "      <th>Surname</th>\n",
              "      <th>CreditScore</th>\n",
              "      <th>Geography</th>\n",
              "      <th>Gender</th>\n",
              "      <th>Age</th>\n",
              "      <th>Tenure</th>\n",
              "      <th>Balance</th>\n",
              "      <th>NumOfProducts</th>\n",
              "      <th>HasCrCard</th>\n",
              "      <th>IsActiveMember</th>\n",
              "      <th>EstimatedSalary</th>\n",
              "      <th>Exited</th>\n",
              "    </tr>\n",
              "  </thead>\n",
              "  <tbody>\n",
              "    <tr>\n",
              "      <th>0</th>\n",
              "      <td>1</td>\n",
              "      <td>15634602</td>\n",
              "      <td>Hargrave</td>\n",
              "      <td>619</td>\n",
              "      <td>France</td>\n",
              "      <td>Female</td>\n",
              "      <td>42</td>\n",
              "      <td>2</td>\n",
              "      <td>0.00</td>\n",
              "      <td>1</td>\n",
              "      <td>1</td>\n",
              "      <td>1</td>\n",
              "      <td>101348.88</td>\n",
              "      <td>1</td>\n",
              "    </tr>\n",
              "    <tr>\n",
              "      <th>1</th>\n",
              "      <td>2</td>\n",
              "      <td>15647311</td>\n",
              "      <td>Hill</td>\n",
              "      <td>608</td>\n",
              "      <td>Spain</td>\n",
              "      <td>Female</td>\n",
              "      <td>41</td>\n",
              "      <td>1</td>\n",
              "      <td>83807.86</td>\n",
              "      <td>1</td>\n",
              "      <td>0</td>\n",
              "      <td>1</td>\n",
              "      <td>112542.58</td>\n",
              "      <td>0</td>\n",
              "    </tr>\n",
              "    <tr>\n",
              "      <th>2</th>\n",
              "      <td>3</td>\n",
              "      <td>15619304</td>\n",
              "      <td>Onio</td>\n",
              "      <td>502</td>\n",
              "      <td>France</td>\n",
              "      <td>Female</td>\n",
              "      <td>42</td>\n",
              "      <td>8</td>\n",
              "      <td>159660.80</td>\n",
              "      <td>3</td>\n",
              "      <td>1</td>\n",
              "      <td>0</td>\n",
              "      <td>113931.57</td>\n",
              "      <td>1</td>\n",
              "    </tr>\n",
              "    <tr>\n",
              "      <th>3</th>\n",
              "      <td>4</td>\n",
              "      <td>15701354</td>\n",
              "      <td>Boni</td>\n",
              "      <td>699</td>\n",
              "      <td>France</td>\n",
              "      <td>Female</td>\n",
              "      <td>39</td>\n",
              "      <td>1</td>\n",
              "      <td>0.00</td>\n",
              "      <td>2</td>\n",
              "      <td>0</td>\n",
              "      <td>0</td>\n",
              "      <td>93826.63</td>\n",
              "      <td>0</td>\n",
              "    </tr>\n",
              "    <tr>\n",
              "      <th>4</th>\n",
              "      <td>5</td>\n",
              "      <td>15737888</td>\n",
              "      <td>Mitchell</td>\n",
              "      <td>850</td>\n",
              "      <td>Spain</td>\n",
              "      <td>Female</td>\n",
              "      <td>43</td>\n",
              "      <td>2</td>\n",
              "      <td>125510.82</td>\n",
              "      <td>1</td>\n",
              "      <td>1</td>\n",
              "      <td>1</td>\n",
              "      <td>79084.10</td>\n",
              "      <td>0</td>\n",
              "    </tr>\n",
              "    <tr>\n",
              "      <th>5</th>\n",
              "      <td>6</td>\n",
              "      <td>15574012</td>\n",
              "      <td>Chu</td>\n",
              "      <td>645</td>\n",
              "      <td>Spain</td>\n",
              "      <td>Male</td>\n",
              "      <td>44</td>\n",
              "      <td>8</td>\n",
              "      <td>113755.78</td>\n",
              "      <td>2</td>\n",
              "      <td>1</td>\n",
              "      <td>0</td>\n",
              "      <td>149756.71</td>\n",
              "      <td>1</td>\n",
              "    </tr>\n",
              "    <tr>\n",
              "      <th>6</th>\n",
              "      <td>7</td>\n",
              "      <td>15592531</td>\n",
              "      <td>Bartlett</td>\n",
              "      <td>822</td>\n",
              "      <td>France</td>\n",
              "      <td>Male</td>\n",
              "      <td>50</td>\n",
              "      <td>7</td>\n",
              "      <td>0.00</td>\n",
              "      <td>2</td>\n",
              "      <td>1</td>\n",
              "      <td>1</td>\n",
              "      <td>10062.80</td>\n",
              "      <td>0</td>\n",
              "    </tr>\n",
              "    <tr>\n",
              "      <th>7</th>\n",
              "      <td>8</td>\n",
              "      <td>15656148</td>\n",
              "      <td>Obinna</td>\n",
              "      <td>376</td>\n",
              "      <td>Germany</td>\n",
              "      <td>Female</td>\n",
              "      <td>29</td>\n",
              "      <td>4</td>\n",
              "      <td>115046.74</td>\n",
              "      <td>4</td>\n",
              "      <td>1</td>\n",
              "      <td>0</td>\n",
              "      <td>119346.88</td>\n",
              "      <td>1</td>\n",
              "    </tr>\n",
              "    <tr>\n",
              "      <th>8</th>\n",
              "      <td>9</td>\n",
              "      <td>15792365</td>\n",
              "      <td>He</td>\n",
              "      <td>501</td>\n",
              "      <td>France</td>\n",
              "      <td>Male</td>\n",
              "      <td>44</td>\n",
              "      <td>4</td>\n",
              "      <td>142051.07</td>\n",
              "      <td>2</td>\n",
              "      <td>0</td>\n",
              "      <td>1</td>\n",
              "      <td>74940.50</td>\n",
              "      <td>0</td>\n",
              "    </tr>\n",
              "    <tr>\n",
              "      <th>9</th>\n",
              "      <td>10</td>\n",
              "      <td>15592389</td>\n",
              "      <td>H?</td>\n",
              "      <td>684</td>\n",
              "      <td>France</td>\n",
              "      <td>Male</td>\n",
              "      <td>27</td>\n",
              "      <td>2</td>\n",
              "      <td>134603.88</td>\n",
              "      <td>1</td>\n",
              "      <td>1</td>\n",
              "      <td>1</td>\n",
              "      <td>71725.73</td>\n",
              "      <td>0</td>\n",
              "    </tr>\n",
              "  </tbody>\n",
              "</table>\n",
              "</div>"
            ],
            "text/plain": [
              "   RowNumber  CustomerId   Surname  ...  IsActiveMember EstimatedSalary Exited\n",
              "0          1    15634602  Hargrave  ...               1       101348.88      1\n",
              "1          2    15647311      Hill  ...               1       112542.58      0\n",
              "2          3    15619304      Onio  ...               0       113931.57      1\n",
              "3          4    15701354      Boni  ...               0        93826.63      0\n",
              "4          5    15737888  Mitchell  ...               1        79084.10      0\n",
              "5          6    15574012       Chu  ...               0       149756.71      1\n",
              "6          7    15592531  Bartlett  ...               1        10062.80      0\n",
              "7          8    15656148    Obinna  ...               0       119346.88      1\n",
              "8          9    15792365        He  ...               1        74940.50      0\n",
              "9         10    15592389        H?  ...               1        71725.73      0\n",
              "\n",
              "[10 rows x 14 columns]"
            ]
          },
          "metadata": {
            "tags": []
          },
          "execution_count": 4
        }
      ]
    },
    {
      "cell_type": "markdown",
      "metadata": {
        "id": "GgAqnuEHfSdI"
      },
      "source": [
        "No conjunto de dados temos as seguinte variáveis:\n",
        "\n",
        "CustomerId: identificação do cliente;\n",
        "Surname: sobrenome do cliente;\n",
        "CreditScore: pontuação de credito, 0 alto risco de inadimplência e 1000 clientes com baixo risco de inadimplência;\n",
        "Geography: país que o serviço é oferecido;\n",
        "Gender: sexo do cliente;\n",
        "Age: idade do cleinte;\n",
        "Tenure: um indicativo de estabilidade no emprego, em que 0 significa pouca estabilidade e 10 muita estabilidade.\n",
        "Balance: saldo da conta corrente;\n",
        "NumOfProducts: número de produtos bancários adquiridos;\n",
        "HasCrCard: se tem cartão de credito ou não, (Sim = 1 e Não = 0);\n",
        "IsActiveMember: se é um cliente com conta ativa, (Ativo = 1) ;\n",
        "EstimatedSalary: salário estimado;\n",
        "Exited: cliente deixou de ser cliente do banco ou não (Churn = 1).\n",
        "\n",
        "*   Item da lista\n",
        "*   Item da lista\n",
        "\n",
        "\n",
        "\n",
        "*   Item da lista\n",
        "*   Item da lista\n",
        "\n",
        "\n",
        "3. Análise Exploratória dos dados - Visão geral do conjunto de dados\n",
        "Nessa etapa, iremos\n",
        "\n",
        "Identificar o tipo de cada variável (numérica, categórica, temporal)\n",
        "Identificar qual é a variável target (alvo) para o nosso problema\n",
        "Exploração dos dados (medidas descritivas, distribuição das variáveis)\n",
        "Visualizar os dados para identificar o perfil dos clientes que deram Churn\n",
        "A.Identificando as variáveis presentes no dataset\n",
        "Nessa etapa, o interesse é obter algumas informações sobre as variáveis, para isso utilizamos o método, DataFrame.info() :"
      ]
    },
    {
      "cell_type": "code",
      "metadata": {
        "id": "_uFkcJWDfkEY",
        "outputId": "0146075c-cfb4-4cc9-c719-e2dcb0f76883",
        "colab": {
          "base_uri": "https://localhost:8080/",
          "height": 399
        }
      },
      "source": [
        "pd.DataFrame.info(df);"
      ],
      "execution_count": null,
      "outputs": [
        {
          "output_type": "stream",
          "text": [
            "<class 'pandas.core.frame.DataFrame'>\n",
            "RangeIndex: 10000 entries, 0 to 9999\n",
            "Data columns (total 14 columns):\n",
            " #   Column           Non-Null Count  Dtype  \n",
            "---  ------           --------------  -----  \n",
            " 0   RowNumber        10000 non-null  int64  \n",
            " 1   CustomerId       10000 non-null  int64  \n",
            " 2   Surname          10000 non-null  object \n",
            " 3   CreditScore      10000 non-null  int64  \n",
            " 4   Geography        10000 non-null  object \n",
            " 5   Gender           10000 non-null  object \n",
            " 6   Age              10000 non-null  int64  \n",
            " 7   Tenure           10000 non-null  int64  \n",
            " 8   Balance          10000 non-null  float64\n",
            " 9   NumOfProducts    10000 non-null  int64  \n",
            " 10  HasCrCard        10000 non-null  int64  \n",
            " 11  IsActiveMember   10000 non-null  int64  \n",
            " 12  EstimatedSalary  10000 non-null  float64\n",
            " 13  Exited           10000 non-null  int64  \n",
            "dtypes: float64(2), int64(9), object(3)\n",
            "memory usage: 1.1+ MB\n"
          ],
          "name": "stdout"
        }
      ]
    },
    {
      "cell_type": "markdown",
      "metadata": {
        "id": "D0gBslGAf93o"
      },
      "source": [
        "# Observamos que temos 14 variáveis e 10000 observações no dataset, além disso, temos variáveis do tipo inteiro, reais e objeto.\n",
        "\n",
        "Os dados se enquadram em duas categorias:\n",
        "\n",
        "* Variáveis categóricas: sexo, país, cartão de crédito, clientes ativos e saída do cliente.\n",
        "*Variáveis numéricas: escore do cliente, idade, tenure, balance, número de produtos, salário estimado.\n",
        "\n",
        "##**B. Identificando a variável alvo**\n",
        "\n",
        "Nosso interesse é identificar o perfil de clientes que cancelaram o serviço com agência bancária e tentar prever clientes em risco de Churn. Assim a variável 'Exited' é a variável adequada para alcançar os objetivos propostos.\n",
        "\n",
        "##**C. Análise exploratória dos dados**\n",
        "\n",
        "O comando 'describe()' fornece algumas medidas descritivas das variáveis, como média, mediana (quartil 50%), máxima, mínimo, desvio padrão, quartis e a contagem"
      ]
    },
    {
      "cell_type": "code",
      "metadata": {
        "id": "8zQjFCvuf_u3",
        "outputId": "2d5febce-add2-44c9-bf22-f93050aa4cce",
        "colab": {
          "base_uri": "https://localhost:8080/",
          "height": 308
        }
      },
      "source": [
        "df.describe()"
      ],
      "execution_count": null,
      "outputs": [
        {
          "output_type": "execute_result",
          "data": {
            "text/html": [
              "<div>\n",
              "<style scoped>\n",
              "    .dataframe tbody tr th:only-of-type {\n",
              "        vertical-align: middle;\n",
              "    }\n",
              "\n",
              "    .dataframe tbody tr th {\n",
              "        vertical-align: top;\n",
              "    }\n",
              "\n",
              "    .dataframe thead th {\n",
              "        text-align: right;\n",
              "    }\n",
              "</style>\n",
              "<table border=\"1\" class=\"dataframe\">\n",
              "  <thead>\n",
              "    <tr style=\"text-align: right;\">\n",
              "      <th></th>\n",
              "      <th>RowNumber</th>\n",
              "      <th>CustomerId</th>\n",
              "      <th>CreditScore</th>\n",
              "      <th>Age</th>\n",
              "      <th>Tenure</th>\n",
              "      <th>Balance</th>\n",
              "      <th>NumOfProducts</th>\n",
              "      <th>HasCrCard</th>\n",
              "      <th>IsActiveMember</th>\n",
              "      <th>EstimatedSalary</th>\n",
              "      <th>Exited</th>\n",
              "    </tr>\n",
              "  </thead>\n",
              "  <tbody>\n",
              "    <tr>\n",
              "      <th>count</th>\n",
              "      <td>10000.00000</td>\n",
              "      <td>1.000000e+04</td>\n",
              "      <td>10000.000000</td>\n",
              "      <td>10000.000000</td>\n",
              "      <td>10000.000000</td>\n",
              "      <td>10000.000000</td>\n",
              "      <td>10000.000000</td>\n",
              "      <td>10000.00000</td>\n",
              "      <td>10000.000000</td>\n",
              "      <td>10000.000000</td>\n",
              "      <td>10000.000000</td>\n",
              "    </tr>\n",
              "    <tr>\n",
              "      <th>mean</th>\n",
              "      <td>5000.50000</td>\n",
              "      <td>1.569094e+07</td>\n",
              "      <td>650.528800</td>\n",
              "      <td>38.921800</td>\n",
              "      <td>5.012800</td>\n",
              "      <td>76485.889288</td>\n",
              "      <td>1.530200</td>\n",
              "      <td>0.70550</td>\n",
              "      <td>0.515100</td>\n",
              "      <td>100090.239881</td>\n",
              "      <td>0.203700</td>\n",
              "    </tr>\n",
              "    <tr>\n",
              "      <th>std</th>\n",
              "      <td>2886.89568</td>\n",
              "      <td>7.193619e+04</td>\n",
              "      <td>96.653299</td>\n",
              "      <td>10.487806</td>\n",
              "      <td>2.892174</td>\n",
              "      <td>62397.405202</td>\n",
              "      <td>0.581654</td>\n",
              "      <td>0.45584</td>\n",
              "      <td>0.499797</td>\n",
              "      <td>57510.492818</td>\n",
              "      <td>0.402769</td>\n",
              "    </tr>\n",
              "    <tr>\n",
              "      <th>min</th>\n",
              "      <td>1.00000</td>\n",
              "      <td>1.556570e+07</td>\n",
              "      <td>350.000000</td>\n",
              "      <td>18.000000</td>\n",
              "      <td>0.000000</td>\n",
              "      <td>0.000000</td>\n",
              "      <td>1.000000</td>\n",
              "      <td>0.00000</td>\n",
              "      <td>0.000000</td>\n",
              "      <td>11.580000</td>\n",
              "      <td>0.000000</td>\n",
              "    </tr>\n",
              "    <tr>\n",
              "      <th>25%</th>\n",
              "      <td>2500.75000</td>\n",
              "      <td>1.562853e+07</td>\n",
              "      <td>584.000000</td>\n",
              "      <td>32.000000</td>\n",
              "      <td>3.000000</td>\n",
              "      <td>0.000000</td>\n",
              "      <td>1.000000</td>\n",
              "      <td>0.00000</td>\n",
              "      <td>0.000000</td>\n",
              "      <td>51002.110000</td>\n",
              "      <td>0.000000</td>\n",
              "    </tr>\n",
              "    <tr>\n",
              "      <th>50%</th>\n",
              "      <td>5000.50000</td>\n",
              "      <td>1.569074e+07</td>\n",
              "      <td>652.000000</td>\n",
              "      <td>37.000000</td>\n",
              "      <td>5.000000</td>\n",
              "      <td>97198.540000</td>\n",
              "      <td>1.000000</td>\n",
              "      <td>1.00000</td>\n",
              "      <td>1.000000</td>\n",
              "      <td>100193.915000</td>\n",
              "      <td>0.000000</td>\n",
              "    </tr>\n",
              "    <tr>\n",
              "      <th>75%</th>\n",
              "      <td>7500.25000</td>\n",
              "      <td>1.575323e+07</td>\n",
              "      <td>718.000000</td>\n",
              "      <td>44.000000</td>\n",
              "      <td>7.000000</td>\n",
              "      <td>127644.240000</td>\n",
              "      <td>2.000000</td>\n",
              "      <td>1.00000</td>\n",
              "      <td>1.000000</td>\n",
              "      <td>149388.247500</td>\n",
              "      <td>0.000000</td>\n",
              "    </tr>\n",
              "    <tr>\n",
              "      <th>max</th>\n",
              "      <td>10000.00000</td>\n",
              "      <td>1.581569e+07</td>\n",
              "      <td>850.000000</td>\n",
              "      <td>92.000000</td>\n",
              "      <td>10.000000</td>\n",
              "      <td>250898.090000</td>\n",
              "      <td>4.000000</td>\n",
              "      <td>1.00000</td>\n",
              "      <td>1.000000</td>\n",
              "      <td>199992.480000</td>\n",
              "      <td>1.000000</td>\n",
              "    </tr>\n",
              "  </tbody>\n",
              "</table>\n",
              "</div>"
            ],
            "text/plain": [
              "         RowNumber    CustomerId  ...  EstimatedSalary        Exited\n",
              "count  10000.00000  1.000000e+04  ...     10000.000000  10000.000000\n",
              "mean    5000.50000  1.569094e+07  ...    100090.239881      0.203700\n",
              "std     2886.89568  7.193619e+04  ...     57510.492818      0.402769\n",
              "min        1.00000  1.556570e+07  ...        11.580000      0.000000\n",
              "25%     2500.75000  1.562853e+07  ...     51002.110000      0.000000\n",
              "50%     5000.50000  1.569074e+07  ...    100193.915000      0.000000\n",
              "75%     7500.25000  1.575323e+07  ...    149388.247500      0.000000\n",
              "max    10000.00000  1.581569e+07  ...    199992.480000      1.000000\n",
              "\n",
              "[8 rows x 11 columns]"
            ]
          },
          "metadata": {
            "tags": []
          },
          "execution_count": 6
        }
      ]
    },
    {
      "cell_type": "markdown",
      "metadata": {
        "id": "UuxZtLlrgOPp"
      },
      "source": [
        "Os clientes, dessa agência bancária, têm em média 39 anos, sendo a idade mínima de 18 anos e máxima de 92 anos. A pontuação de crédito fica em torno de 650 pontos e o índice médio de estabilidade de emprego é 5.\n",
        "\n",
        "Os clientes têm em média 76.000 mil dólares na conta e possuem em média 1,5 produtos do banco. \n",
        "O salário médio anual estimado é de $100.000 mil dólares, 70% dos clientes possuem cartão de crédito e apenas 51% são ativos no banco, ou seja, fazem movimentação bancária constantemente.\n",
        "\n",
        "Analisando a variável de Churn ('Exited'), observa-se que 20% dos clientes romperam seu contrato com a agência bancária.\n",
        "\n",
        "###**Distribuição das variáveis**\n",
        "\n",
        "Plotar a distribuição de cada variável, da uma visão geral da mesma e possíveis outilers (valores discrepantes)."
      ]
    },
    {
      "cell_type": "code",
      "metadata": {
        "id": "4z1koXCzgZcc",
        "outputId": "a5c4419f-24be-4a1b-f14a-3c02d9018269",
        "colab": {
          "base_uri": "https://localhost:8080/",
          "height": 607
        }
      },
      "source": [
        "df.hist(figsize=(12,10));"
      ],
      "execution_count": null,
      "outputs": [
        {
          "output_type": "display_data",
          "data": {
            "image/png": "[encoded data removed]",
            "text/plain": [
              "<Figure size 864x720 with 12 Axes>"
            ]
          },
          "metadata": {
            "tags": [],
            "needs_background": "light"
          }
        }
      ]
    },
    {
      "cell_type": "markdown",
      "metadata": {
        "id": "FMU75m_dghxx"
      },
      "source": [
        "O histograma da variável Idade mostra uma distribuição assimétrica a esquerda, ou seja, a maioria dos clientes têm entre 30 a 45 anos e poucos clientes têm idade superior a 60 anos. Já, o histograma da variável Balance (saldo bancário), mostra uma inflação de clientes que têm pouco dinheiro na conta bancária, isso pode ser um indicativo que esses clientes possuem outra conta bancária.\n",
        "\n",
        "O histograma da variável Score do Cliente mostra uma leve assimetria a direita, indicando que os clientes têm um escore elevado. E o histograma da variável Salário Estimado mostra que os valores estão uniformemente distribuídos. Ou seja, temos frequência parecidas entre os salários do clientes e existem clientes com salários baixo, médio e alto.\n",
        "\n",
        "A distribuição da variável Tenure (índice de estabilidade de emprego), mostra uma alta frequência no índice 10, ou seja, muitos clientes têm uma estabilidade alta. E uma baixa frequência no índice 0, de baixa estabilidade.\n",
        "\n",
        "A distribuição da variável Número de Produtos indica que a maioria dos clientes têm 1 ou 2 produtos e poucos clientes têm 3 ou mais produtos. Analisando o gráfico da variável Cartão de Crédito, observa-se que a maioria dos clientes possuem cartão de crédito.\n",
        "\n",
        "O gráfico de frequência da variável Membro Ativo, mostra que temos um equilíbrio entre os clientes que movimentam a conta e os clientes que não possuem esse hábito de movimentar a conta.\n",
        "\n",
        "E para finalizar, a variável Exited apresenta que poucos clientes cancelaram sua conta bancária.\n",
        "\n",
        "Viu quanta informação conseguimos extrair da distribuição de frequência das variáveis.\n",
        "\n",
        "* **Variáveis Numéricas**\n",
        "\n",
        "Observamos distribuições de cada variável numérica em relação à variável resposta (alvo). Podemos observar que a evasão de clientes é maior em pessoas com mais idade e que pessoas com baixo escore têm uma evasão maior. Além disso, quanto maior o número de produtos bancários, maior a taxa de evasão."
      ]
    },
    {
      "cell_type": "code",
      "metadata": {
        "id": "CyggVYPvgq7q"
      },
      "source": [
        "df['Exited_cat']=df['Exited'].replace([0,1],['Não','Sim'])\n",
        "x_cont=['CreditScore','Balance','Age','EstimatedSalary','Tenure', 'NumOfProducts']"
      ],
      "execution_count": null,
      "outputs": []
    },
    {
      "cell_type": "code",
      "metadata": {
        "id": "xiuesDT6gtni",
        "outputId": "b431dd4c-3904-4526-efb9-fb9315d55270",
        "colab": {
          "base_uri": "https://localhost:8080/",
          "height": 345
        }
      },
      "source": [
        "fig, ax = plt.subplots(1, 6, figsize=(22, 6));\n",
        "df[df.Exited_cat == \"Não\"][x_cont].hist( bins=30, color=\"blue\", alpha=0.5, ax=ax);\n",
        "df[df.Exited_cat == \"Sim\"][x_cont].hist( bins=30, color=\"red\", alpha=0.5, ax=ax);"
      ],
      "execution_count": null,
      "outputs": [
        {
          "output_type": "display_data",
          "data": {
            "image/png": "[encoded data removed]",
            "text/plain": [
              "<Figure size 1584x432 with 6 Axes>"
            ]
          },
          "metadata": {
            "tags": [],
            "needs_background": "light"
          }
        }
      ]
    },
    {
      "cell_type": "markdown",
      "metadata": {
        "id": "9BmAvP2Lg7TS"
      },
      "source": [
        "## **D.Visualização de Dados - Qual o perfil de clientes que cancelaram o contrato (Churn)?**\n",
        "\n",
        "\n",
        "Nessa etapa faremos a análise visual dos dados e mostraremos como as técnicas gráficas são úteis para identificar as características dos clientes que cancelaram o serviço.\n",
        "\n",
        "Para construir os gráficos no Python, precisamos importar algumas *bibliotecas*."
      ]
    },
    {
      "cell_type": "code",
      "metadata": {
        "id": "cVpD23rIg_vy",
        "outputId": "e09d0a90-622e-4d99-c336-a4d68c2474dd",
        "colab": {
          "base_uri": "https://localhost:8080/",
          "height": 74
        }
      },
      "source": [
        "import numpy as np #  pacote algebra linear;\n",
        "import seaborn as sns #visualização de dados;\n",
        "import matplotlib.pyplot as plt#visualização de dados;"
      ],
      "execution_count": null,
      "outputs": [
        {
          "output_type": "stream",
          "text": [
            "/usr/local/lib/python3.6/dist-packages/statsmodels/tools/_testing.py:19: FutureWarning: pandas.util.testing is deprecated. Use the functions in the public API at pandas.testing instead.\n",
            "  import pandas.util.testing as tm\n"
          ],
          "name": "stderr"
        }
      ]
    },
    {
      "cell_type": "markdown",
      "metadata": {
        "id": "xPgq4ENxhF6A"
      },
      "source": [
        "Para facilitar a configuração das cores dos gráficos, irei definir uma paleta de cores. Você pode utilizar as cores default dos gráfico, mas eu prefiro definir algumas cores que são mais agradáveis, ao meu ver."
      ]
    },
    {
      "cell_type": "code",
      "metadata": {
        "id": "YpMoZbG7hLLH"
      },
      "source": [
        "myred='#CD5C5C'\n",
        "myblue='#6495ED'\n",
        "mygreen='#90EE90'\n",
        "cols= [myred, myblue,mygreen]"
      ],
      "execution_count": null,
      "outputs": []
    },
    {
      "cell_type": "code",
      "metadata": {
        "id": "3HcMmqWbhQrP",
        "outputId": "848060c2-82a4-44a2-8712-aa877bd874b5",
        "colab": {
          "base_uri": "https://localhost:8080/",
          "height": 35
        }
      },
      "source": [
        "# porcentagem de clientes que sairam do banco\n",
        "df['Exited'].sum()/df['Exited'].count()"
      ],
      "execution_count": null,
      "outputs": [
        {
          "output_type": "execute_result",
          "data": {
            "text/plain": [
              "0.2037"
            ]
          },
          "metadata": {
            "tags": []
          },
          "execution_count": 14
        }
      ]
    },
    {
      "cell_type": "code",
      "metadata": {
        "id": "dERi2hI2hTtV",
        "outputId": "79f4340f-5a49-40fa-aa82-673e9910e928",
        "colab": {
          "base_uri": "https://localhost:8080/",
          "height": 279
        }
      },
      "source": [
        "df['Exited']=df['Exited'].replace([0,1],['Não','Sim'])\n",
        "sns.countplot(data=df,x='Exited',palette=cols);"
      ],
      "execution_count": null,
      "outputs": [
        {
          "output_type": "display_data",
          "data": {
            "image/png": "[encoded data removed]",
            "text/plain": [
              "<Figure size 432x288 with 1 Axes>"
            ]
          },
          "metadata": {
            "tags": [],
            "needs_background": "light"
          }
        }
      ]
    },
    {
      "cell_type": "markdown",
      "metadata": {
        "id": "VSMH7CYshXPM"
      },
      "source": [
        "Observe que 20% dos clientes dessa agência bancária abandonaram o serviço. Vale ressaltar que existe um desbalanceamento em relação a variável de interesse, Exited. E ignorar essa desproporção, entre as classes, pode impactar os resultados de previsão do modelo, que será assunto para o próximo artigo.\n",
        "\n",
        "###**Variáveis Categóricas**\n",
        "\n",
        " Primeiro vamos analisar as variáveis categóricas em relação a variável de saída (Exited). Utilizaremos gráficos de barras para esse fim.\n",
        "\n",
        "* **Variável Sexo**"
      ]
    },
    {
      "cell_type": "code",
      "metadata": {
        "id": "c7utPBOHhjgK"
      },
      "source": [
        "#renomeando as categorias\n",
        "df['Gender'] = df['Gender'].replace(['Female','Male'],['Feminino','Masculino'])"
      ],
      "execution_count": null,
      "outputs": []
    },
    {
      "cell_type": "code",
      "metadata": {
        "id": "_ReOLUU2hmC6",
        "outputId": "65f3eb49-62b4-429f-d3bf-b387fb7885ff",
        "colab": {
          "base_uri": "https://localhost:8080/",
          "height": 340
        }
      },
      "source": [
        "df_plot = df.groupby ('Gender'). Exited.mean (). reset_index () \n",
        "df_plot"
      ],
      "execution_count": null,
      "outputs": [
        {
          "output_type": "error",
          "ename": "DataError",
          "evalue": "ignored",
          "traceback": [
            "\u001b[0;31m---------------------------------------------------------------------------\u001b[0m",
            "\u001b[0;31mDataError\u001b[0m                                 Traceback (most recent call last)",
            "\u001b[0;32m<ipython-input-27-57373863b942>\u001b[0m in \u001b[0;36m<module>\u001b[0;34m()\u001b[0m\n\u001b[0;32m----> 1\u001b[0;31m \u001b[0mdf_plot\u001b[0m \u001b[0;34m=\u001b[0m \u001b[0mdf\u001b[0m\u001b[0;34m.\u001b[0m\u001b[0mgroupby\u001b[0m \u001b[0;34m(\u001b[0m\u001b[0;34m'Gender'\u001b[0m\u001b[0;34m)\u001b[0m\u001b[0;34m.\u001b[0m \u001b[0mExited\u001b[0m\u001b[0;34m.\u001b[0m\u001b[0mmean\u001b[0m \u001b[0;34m(\u001b[0m\u001b[0;34m)\u001b[0m\u001b[0;34m.\u001b[0m \u001b[0mreset_index\u001b[0m \u001b[0;34m(\u001b[0m\u001b[0;34m)\u001b[0m\u001b[0;34m\u001b[0m\u001b[0;34m\u001b[0m\u001b[0m\n\u001b[0m\u001b[1;32m      2\u001b[0m \u001b[0mdf_plot\u001b[0m\u001b[0;34m\u001b[0m\u001b[0;34m\u001b[0m\u001b[0m\n",
            "\u001b[0;32m/usr/local/lib/python3.6/dist-packages/pandas/core/groupby/groupby.py\u001b[0m in \u001b[0;36mmean\u001b[0;34m(self, *args, **kwargs)\u001b[0m\n\u001b[1;32m   1224\u001b[0m         \u001b[0mnv\u001b[0m\u001b[0;34m.\u001b[0m\u001b[0mvalidate_groupby_func\u001b[0m\u001b[0;34m(\u001b[0m\u001b[0;34m\"mean\"\u001b[0m\u001b[0;34m,\u001b[0m \u001b[0margs\u001b[0m\u001b[0;34m,\u001b[0m \u001b[0mkwargs\u001b[0m\u001b[0;34m,\u001b[0m \u001b[0;34m[\u001b[0m\u001b[0;34m\"numeric_only\"\u001b[0m\u001b[0;34m]\u001b[0m\u001b[0;34m)\u001b[0m\u001b[0;34m\u001b[0m\u001b[0;34m\u001b[0m\u001b[0m\n\u001b[1;32m   1225\u001b[0m         return self._cython_agg_general(\n\u001b[0;32m-> 1226\u001b[0;31m             \u001b[0;34m\"mean\"\u001b[0m\u001b[0;34m,\u001b[0m \u001b[0malt\u001b[0m\u001b[0;34m=\u001b[0m\u001b[0;32mlambda\u001b[0m \u001b[0mx\u001b[0m\u001b[0;34m,\u001b[0m \u001b[0maxis\u001b[0m\u001b[0;34m:\u001b[0m \u001b[0mSeries\u001b[0m\u001b[0;34m(\u001b[0m\u001b[0mx\u001b[0m\u001b[0;34m)\u001b[0m\u001b[0;34m.\u001b[0m\u001b[0mmean\u001b[0m\u001b[0;34m(\u001b[0m\u001b[0;34m**\u001b[0m\u001b[0mkwargs\u001b[0m\u001b[0;34m)\u001b[0m\u001b[0;34m,\u001b[0m \u001b[0;34m**\u001b[0m\u001b[0mkwargs\u001b[0m\u001b[0;34m\u001b[0m\u001b[0;34m\u001b[0m\u001b[0m\n\u001b[0m\u001b[1;32m   1227\u001b[0m         )\n\u001b[1;32m   1228\u001b[0m \u001b[0;34m\u001b[0m\u001b[0m\n",
            "\u001b[0;32m/usr/local/lib/python3.6/dist-packages/pandas/core/groupby/groupby.py\u001b[0m in \u001b[0;36m_cython_agg_general\u001b[0;34m(self, how, alt, numeric_only, min_count)\u001b[0m\n\u001b[1;32m    906\u001b[0m \u001b[0;34m\u001b[0m\u001b[0m\n\u001b[1;32m    907\u001b[0m         \u001b[0;32mif\u001b[0m \u001b[0mlen\u001b[0m\u001b[0;34m(\u001b[0m\u001b[0moutput\u001b[0m\u001b[0;34m)\u001b[0m \u001b[0;34m==\u001b[0m \u001b[0;36m0\u001b[0m\u001b[0;34m:\u001b[0m\u001b[0;34m\u001b[0m\u001b[0;34m\u001b[0m\u001b[0m\n\u001b[0;32m--> 908\u001b[0;31m             \u001b[0;32mraise\u001b[0m \u001b[0mDataError\u001b[0m\u001b[0;34m(\u001b[0m\u001b[0;34m\"No numeric types to aggregate\"\u001b[0m\u001b[0;34m)\u001b[0m\u001b[0;34m\u001b[0m\u001b[0;34m\u001b[0m\u001b[0m\n\u001b[0m\u001b[1;32m    909\u001b[0m \u001b[0;34m\u001b[0m\u001b[0m\n\u001b[1;32m    910\u001b[0m         \u001b[0;32mreturn\u001b[0m \u001b[0mself\u001b[0m\u001b[0;34m.\u001b[0m\u001b[0m_wrap_aggregated_output\u001b[0m\u001b[0;34m(\u001b[0m\u001b[0moutput\u001b[0m\u001b[0;34m)\u001b[0m\u001b[0;34m\u001b[0m\u001b[0;34m\u001b[0m\u001b[0m\n",
            "\u001b[0;31mDataError\u001b[0m: No numeric types to aggregate"
          ]
        }
      ]
    },
    {
      "cell_type": "code",
      "metadata": {
        "id": "AXPgnOdHhtuL",
        "outputId": "3a6baf3a-4393-4c50-971c-5633b6d5f4d1",
        "colab": {
          "base_uri": "https://localhost:8080/",
          "height": 244
        }
      },
      "source": [
        "#Sexo em relação a variável churn\n",
        "x =df_plot['Gender']\n",
        "y=df_plot['Exited']\n",
        "plt.bar(x,y,color=cols);\n",
        "plt.title('Taxa de Churn em relação ao Sexo');\n",
        "plt.xlabel('Sexo');\n",
        "plt.ylabel('Taxa de Churn');"
      ],
      "execution_count": null,
      "outputs": [
        {
          "output_type": "error",
          "ename": "NameError",
          "evalue": "ignored",
          "traceback": [
            "\u001b[0;31m---------------------------------------------------------------------------\u001b[0m",
            "\u001b[0;31mNameError\u001b[0m                                 Traceback (most recent call last)",
            "\u001b[0;32m<ipython-input-18-afd05f04ed98>\u001b[0m in \u001b[0;36m<module>\u001b[0;34m()\u001b[0m\n\u001b[1;32m      1\u001b[0m \u001b[0;31m#Sexo em relação a variável churn\u001b[0m\u001b[0;34m\u001b[0m\u001b[0;34m\u001b[0m\u001b[0;34m\u001b[0m\u001b[0m\n\u001b[0;32m----> 2\u001b[0;31m \u001b[0mx\u001b[0m \u001b[0;34m=\u001b[0m\u001b[0mdf_plot\u001b[0m\u001b[0;34m[\u001b[0m\u001b[0;34m'Gender'\u001b[0m\u001b[0;34m]\u001b[0m\u001b[0;34m\u001b[0m\u001b[0;34m\u001b[0m\u001b[0m\n\u001b[0m\u001b[1;32m      3\u001b[0m \u001b[0my\u001b[0m\u001b[0;34m=\u001b[0m\u001b[0mdf_plot\u001b[0m\u001b[0;34m[\u001b[0m\u001b[0;34m'Exited'\u001b[0m\u001b[0;34m]\u001b[0m\u001b[0;34m\u001b[0m\u001b[0;34m\u001b[0m\u001b[0m\n\u001b[1;32m      4\u001b[0m \u001b[0mplt\u001b[0m\u001b[0;34m.\u001b[0m\u001b[0mbar\u001b[0m\u001b[0;34m(\u001b[0m\u001b[0mx\u001b[0m\u001b[0;34m,\u001b[0m\u001b[0my\u001b[0m\u001b[0;34m,\u001b[0m\u001b[0mcolor\u001b[0m\u001b[0;34m=\u001b[0m\u001b[0mcols\u001b[0m\u001b[0;34m)\u001b[0m\u001b[0;34m;\u001b[0m\u001b[0;34m\u001b[0m\u001b[0;34m\u001b[0m\u001b[0m\n\u001b[1;32m      5\u001b[0m \u001b[0mplt\u001b[0m\u001b[0;34m.\u001b[0m\u001b[0mtitle\u001b[0m\u001b[0;34m(\u001b[0m\u001b[0;34m'Taxa de Churn em relação ao Sexo'\u001b[0m\u001b[0;34m)\u001b[0m\u001b[0;34m;\u001b[0m\u001b[0;34m\u001b[0m\u001b[0;34m\u001b[0m\u001b[0m\n",
            "\u001b[0;31mNameError\u001b[0m: name 'df_plot' is not defined"
          ]
        }
      ]
    },
    {
      "cell_type": "markdown",
      "metadata": {
        "id": "WvIYc2y3h_sq"
      },
      "source": [
        "Observa-se que as mulheres têm um risco maior de Churn do que os homens. \n",
        "\n",
        "* **Variável País**"
      ]
    },
    {
      "cell_type": "code",
      "metadata": {
        "id": "gc2hFwjSiCNo"
      },
      "source": [
        "df['Geography']=df['Geography'].replace(['France','Germany','Spain'],['França','Alemanha','Espanha'])"
      ],
      "execution_count": null,
      "outputs": []
    },
    {
      "cell_type": "code",
      "metadata": {
        "id": "wOpaedkMiHYo",
        "outputId": "dfdaba40-986f-46c7-aafc-7e83215c1069",
        "colab": {
          "base_uri": "https://localhost:8080/",
          "height": 340
        }
      },
      "source": [
        "df_plot = df.groupby ('Geography'). Exited.mean (). reset_index () \n",
        "df_plot"
      ],
      "execution_count": null,
      "outputs": [
        {
          "output_type": "error",
          "ename": "DataError",
          "evalue": "ignored",
          "traceback": [
            "\u001b[0;31m---------------------------------------------------------------------------\u001b[0m",
            "\u001b[0;31mDataError\u001b[0m                                 Traceback (most recent call last)",
            "\u001b[0;32m<ipython-input-29-d01b28a0a200>\u001b[0m in \u001b[0;36m<module>\u001b[0;34m()\u001b[0m\n\u001b[0;32m----> 1\u001b[0;31m \u001b[0mdf_plot\u001b[0m \u001b[0;34m=\u001b[0m \u001b[0mdf\u001b[0m\u001b[0;34m.\u001b[0m\u001b[0mgroupby\u001b[0m \u001b[0;34m(\u001b[0m\u001b[0;34m'Geography'\u001b[0m\u001b[0;34m)\u001b[0m\u001b[0;34m.\u001b[0m \u001b[0mExited\u001b[0m\u001b[0;34m.\u001b[0m\u001b[0mmean\u001b[0m \u001b[0;34m(\u001b[0m\u001b[0;34m)\u001b[0m\u001b[0;34m.\u001b[0m \u001b[0mreset_index\u001b[0m \u001b[0;34m(\u001b[0m\u001b[0;34m)\u001b[0m\u001b[0;34m\u001b[0m\u001b[0;34m\u001b[0m\u001b[0m\n\u001b[0m\u001b[1;32m      2\u001b[0m \u001b[0mdf_plot\u001b[0m\u001b[0;34m\u001b[0m\u001b[0;34m\u001b[0m\u001b[0m\n",
            "\u001b[0;32m/usr/local/lib/python3.6/dist-packages/pandas/core/groupby/groupby.py\u001b[0m in \u001b[0;36mmean\u001b[0;34m(self, *args, **kwargs)\u001b[0m\n\u001b[1;32m   1224\u001b[0m         \u001b[0mnv\u001b[0m\u001b[0;34m.\u001b[0m\u001b[0mvalidate_groupby_func\u001b[0m\u001b[0;34m(\u001b[0m\u001b[0;34m\"mean\"\u001b[0m\u001b[0;34m,\u001b[0m \u001b[0margs\u001b[0m\u001b[0;34m,\u001b[0m \u001b[0mkwargs\u001b[0m\u001b[0;34m,\u001b[0m \u001b[0;34m[\u001b[0m\u001b[0;34m\"numeric_only\"\u001b[0m\u001b[0;34m]\u001b[0m\u001b[0;34m)\u001b[0m\u001b[0;34m\u001b[0m\u001b[0;34m\u001b[0m\u001b[0m\n\u001b[1;32m   1225\u001b[0m         return self._cython_agg_general(\n\u001b[0;32m-> 1226\u001b[0;31m             \u001b[0;34m\"mean\"\u001b[0m\u001b[0;34m,\u001b[0m \u001b[0malt\u001b[0m\u001b[0;34m=\u001b[0m\u001b[0;32mlambda\u001b[0m \u001b[0mx\u001b[0m\u001b[0;34m,\u001b[0m \u001b[0maxis\u001b[0m\u001b[0;34m:\u001b[0m \u001b[0mSeries\u001b[0m\u001b[0;34m(\u001b[0m\u001b[0mx\u001b[0m\u001b[0;34m)\u001b[0m\u001b[0;34m.\u001b[0m\u001b[0mmean\u001b[0m\u001b[0;34m(\u001b[0m\u001b[0;34m**\u001b[0m\u001b[0mkwargs\u001b[0m\u001b[0;34m)\u001b[0m\u001b[0;34m,\u001b[0m \u001b[0;34m**\u001b[0m\u001b[0mkwargs\u001b[0m\u001b[0;34m\u001b[0m\u001b[0;34m\u001b[0m\u001b[0m\n\u001b[0m\u001b[1;32m   1227\u001b[0m         )\n\u001b[1;32m   1228\u001b[0m \u001b[0;34m\u001b[0m\u001b[0m\n",
            "\u001b[0;32m/usr/local/lib/python3.6/dist-packages/pandas/core/groupby/groupby.py\u001b[0m in \u001b[0;36m_cython_agg_general\u001b[0;34m(self, how, alt, numeric_only, min_count)\u001b[0m\n\u001b[1;32m    906\u001b[0m \u001b[0;34m\u001b[0m\u001b[0m\n\u001b[1;32m    907\u001b[0m         \u001b[0;32mif\u001b[0m \u001b[0mlen\u001b[0m\u001b[0;34m(\u001b[0m\u001b[0moutput\u001b[0m\u001b[0;34m)\u001b[0m \u001b[0;34m==\u001b[0m \u001b[0;36m0\u001b[0m\u001b[0;34m:\u001b[0m\u001b[0;34m\u001b[0m\u001b[0;34m\u001b[0m\u001b[0m\n\u001b[0;32m--> 908\u001b[0;31m             \u001b[0;32mraise\u001b[0m \u001b[0mDataError\u001b[0m\u001b[0;34m(\u001b[0m\u001b[0;34m\"No numeric types to aggregate\"\u001b[0m\u001b[0;34m)\u001b[0m\u001b[0;34m\u001b[0m\u001b[0;34m\u001b[0m\u001b[0m\n\u001b[0m\u001b[1;32m    909\u001b[0m \u001b[0;34m\u001b[0m\u001b[0m\n\u001b[1;32m    910\u001b[0m         \u001b[0;32mreturn\u001b[0m \u001b[0mself\u001b[0m\u001b[0;34m.\u001b[0m\u001b[0m_wrap_aggregated_output\u001b[0m\u001b[0;34m(\u001b[0m\u001b[0moutput\u001b[0m\u001b[0;34m)\u001b[0m\u001b[0;34m\u001b[0m\u001b[0;34m\u001b[0m\u001b[0m\n",
            "\u001b[0;31mDataError\u001b[0m: No numeric types to aggregate"
          ]
        }
      ]
    },
    {
      "cell_type": "code",
      "metadata": {
        "id": "WphgM9HCiKf3"
      },
      "source": [
        "#País em relação a variável churn\n",
        "x =df_plot['Geography']\n",
        "y=df_plot['Exited']\n",
        "plt.bar(x,y,color=cols);\n",
        "plt.title('Taxa de Churn em relação ao País');\n",
        "plt.xlabel('País');\n",
        "plt.ylabel('Taxa de Churn');"
      ],
      "execution_count": null,
      "outputs": []
    },
    {
      "cell_type": "markdown",
      "metadata": {
        "id": "-Yk8qSMyiOqK"
      },
      "source": [
        "Em relação a variável país, observa-se que a porcentagem de Churn na Alemanha é bastante elevada, onde 32% dos clientes encerraram a conta no banco. Espanha e França têm uma taxa de Churn parecidas em torno de 16%.\n",
        "\n",
        "* **Variável Cartão de Crédito**\n"
      ]
    },
    {
      "cell_type": "code",
      "metadata": {
        "id": "UcqOJWvIiRPC"
      },
      "source": [
        "df['HasCrCard']=df['HasCrCard'].replace([0,1],['Não','Sim'])"
      ],
      "execution_count": null,
      "outputs": []
    },
    {
      "cell_type": "code",
      "metadata": {
        "id": "hfVFK4uMiV1Z"
      },
      "source": [
        "df_plot = df.groupby ('HasCrCard'). Exited.mean (). reset_index () \n",
        "df_plot"
      ],
      "execution_count": null,
      "outputs": []
    },
    {
      "cell_type": "code",
      "metadata": {
        "id": "dGJxqnDziYfp"
      },
      "source": [
        "#Carão de crédito em relação a variável churn\n",
        "x =df_plot['HasCrCard']\n",
        "y=df_plot['Exited']\n",
        "plt.bar(x,y,color=cols);\n",
        "plt.title('Taxa de Churn em relação a variável Cartão de Crédito');\n",
        "plt.xlabel('Cartão de crédito');\n",
        "plt.ylabel('Taxa de Churn');"
      ],
      "execution_count": null,
      "outputs": []
    },
    {
      "cell_type": "markdown",
      "metadata": {
        "id": "Tmv9EYl6ib3r"
      },
      "source": [
        "Observe que o cliente ter ou não cartão de crédito parece não influenciar no Churn.\n",
        "\n",
        "* **Variável Membro Ativo**"
      ]
    },
    {
      "cell_type": "code",
      "metadata": {
        "id": "KRo2c4XhidXv"
      },
      "source": [
        "df['IsActiveMember']=df['IsActiveMember'].replace([0,1],['Não','Sim'])"
      ],
      "execution_count": null,
      "outputs": []
    },
    {
      "cell_type": "code",
      "metadata": {
        "id": "tTtSYfR9iiB2"
      },
      "source": [
        "df_plot = df.groupby ('IsActiveMember'). Exited.mean (). reset_index () \n",
        "df_plot"
      ],
      "execution_count": null,
      "outputs": []
    },
    {
      "cell_type": "code",
      "metadata": {
        "id": "sgVc_gb8ik-V"
      },
      "source": [
        "#Membro ativo em relação a variável churn\n",
        "x =df_plot['IsActiveMember']\n",
        "y=df_plot['Exited']\n",
        "plt.bar(x,y,color=cols);\n",
        "plt.title('Taxa de Churn em relação a variável Membro Ativo');\n",
        "plt.xlabel('Membro ativo');\n",
        "plt.ylabel('Taxa de Churn');"
      ],
      "execution_count": null,
      "outputs": []
    },
    {
      "cell_type": "markdown",
      "metadata": {
        "id": "dKAdL6lOinKe"
      },
      "source": [
        "O Churn entre os clientes que não são ativos é maior do que os clientes ativos, tendo uma diferença de aproximadamente 12%.\n",
        "\n",
        "###**Variáveis numéricas**\n",
        "\n",
        "Para as variáveis numéricas utilizaremos variáveis de barras para variáveis discretas e gráfico de dispersão e box-plot para as variáveis contínuas. Também analisaremos a matriz de correlação para ver a correlação entre as variáveis.\n",
        "\n",
        "Selecionamos, primeiramente, apenas as variáveis numéricas."
      ]
    },
    {
      "cell_type": "code",
      "metadata": {
        "id": "AWnN9HKFiuSZ"
      },
      "source": [
        "df_cont=df[['Age','Balance','Tenure','NumOfProducts','EstimatedSalary']]\n",
        "df_cont"
      ],
      "execution_count": null,
      "outputs": []
    },
    {
      "cell_type": "markdown",
      "metadata": {
        "id": "5LDmlKX8j3SU"
      },
      "source": [
        "* **Matriz de Correlação**\n",
        "\n",
        "Utilizaremos a função heatmap() para entender o relacionamento entre as variáveis numéricas."
      ]
    },
    {
      "cell_type": "code",
      "metadata": {
        "id": "0vUVUJ68j6cn"
      },
      "source": [
        "sns.heatmap(df_cont.corr(),annot = True,\n",
        "            cmap='Blues');"
      ],
      "execution_count": null,
      "outputs": []
    },
    {
      "cell_type": "markdown",
      "metadata": {
        "id": "ZlKqaPiZkGyL"
      },
      "source": [
        "Analisando a correlação entre as variáveis, observa-se que temos baixas correlações. A maior correlação é entre as variáveis Número de Produtos e Saldo Bancário ('Balance') e temos uma correlação negativa de - 0,3 entre elas. Ou seja, quando menor o Número de Produtos maior o Saldo Bancário.\n",
        "\n",
        "Agora vamos construir os gráficos para as variáves quantitativas discretas, como, 'NumOfProducts' e 'Tenure'.\n",
        "\n",
        "* **Variável Número de Produtos**"
      ]
    },
    {
      "cell_type": "code",
      "metadata": {
        "id": "j4c7C1DmkWXJ"
      },
      "source": [
        "df_plot = df.groupby ('NumOfProducts').Exited.mean(). reset_index () \n",
        "df_plot"
      ],
      "execution_count": null,
      "outputs": []
    },
    {
      "cell_type": "code",
      "metadata": {
        "id": "2BL5GFcXkbU4"
      },
      "source": [
        "#Número de produtos em relação a variável churn\n",
        "x =df_plot['NumOfProducts']\n",
        "y=df_plot['Exited']\n",
        "plt.bar(x,y);\n",
        "plt.title('Taxa de Churn em relação ao Número de Produtos');\n",
        "plt.xlabel('Números de produtos');\n",
        "plt.ylabel('Taxa de Churn');\n",
        "plt.xticks(x, (1,2,3,4));"
      ],
      "execution_count": null,
      "outputs": []
    },
    {
      "cell_type": "markdown",
      "metadata": {
        "id": "rbmFsnAhkfGs"
      },
      "source": [
        "Quanto maior o número de produtos maior a taxa de Churn. \n",
        "\n",
        "**Observação:**Para alterar o eixo do gráfico utilize a função plt.xticks\n",
        "\n",
        "* **Variável Tenure**"
      ]
    },
    {
      "cell_type": "code",
      "metadata": {
        "id": "hCNhD06Wko3a"
      },
      "source": [
        "df_plot = df.groupby ('Tenure'). Exited.mean (). reset_index () \n",
        "#Número de produtos em relação a variável churn\n",
        "x =df_plot['Tenure']\n",
        "y=df_plot['Exited']\n",
        "plt.bar(x,y);\n",
        "plt.title('Taxa de Churn em relação ao Índice de Estabilidade no emprego');\n",
        "plt.xlabel('Índice de Estabilidade no emprego');\n",
        "plt.ylabel('Taxa de Churn');\n",
        "plt.xticks(x, (0,1,2,3,4,5,6,7,8,9,10));"
      ],
      "execution_count": null,
      "outputs": []
    },
    {
      "cell_type": "markdown",
      "metadata": {
        "id": "yDgQXS1TkwdJ"
      },
      "source": [
        " O nível de estabilidade do emprego parece não influenciar a taxa de Churn. Porém, observa-se uma taxa de Churn um pouco mais elevada em clientes com índice de estabilidade 0 e 1.\n",
        "\n",
        "* **Variável Saldo Bancário**"
      ]
    },
    {
      "cell_type": "code",
      "metadata": {
        "id": "VnIRes8Rkyii"
      },
      "source": [
        "df['Exited']=df['Exited'].replace([0,1],['Não','Sim'])"
      ],
      "execution_count": null,
      "outputs": []
    },
    {
      "cell_type": "code",
      "metadata": {
        "id": "iOHBFcRmk03Z"
      },
      "source": [
        "#box-plot salto bancario em relação ao Churn\n",
        "cols= [myred, myblue,mygreen]\n",
        "sns.boxplot(x=\"Exited\", y=\"Balance\", data=df,palette=cols);\n",
        "plt.title('Box-plot da variável Saldo bancário');\n",
        "plt.xlabel('Variável Churn');\n",
        "plt.ylabel('Saldo Bancário');\n",
        "df.groupby(['Exited'])['Balance'].mean()"
      ],
      "execution_count": null,
      "outputs": []
    },
    {
      "cell_type": "markdown",
      "metadata": {
        "id": "p8AzINEBk5s2"
      },
      "source": [
        " Clientes que cancelaram os serviços bancários possui um saldo bancários maior do que aqueles clientes que não cancelaram o serviço. \n",
        "\n",
        "* **Variável Salário Estimado**"
      ]
    },
    {
      "cell_type": "code",
      "metadata": {
        "id": "kciBpEVBk9D5"
      },
      "source": [
        "from matplotlib import pyplot\n",
        "a4_dims = (10, 12)\n",
        "\n",
        "fig, ax = pyplot.subplots(figsize=a4_dims)\n",
        "sns.boxplot( y=\"Age\" , data=df,ax=ax);\n",
        "plt.ylabel('Idade');"
      ],
      "execution_count": null,
      "outputs": []
    },
    {
      "cell_type": "code",
      "metadata": {
        "id": "fwET_fk0lAW7"
      },
      "source": [
        "#box-plot salario pela variável churn\n",
        "\n",
        "sns.boxplot(x=\"Exited\", y=\"EstimatedSalary\" , data=df,palette=cols);\n",
        "df.groupby(['Exited'])['EstimatedSalary'].mean()\n",
        "plt.xlabel('Churn');\n",
        "plt.ylabel('Salário');"
      ],
      "execution_count": null,
      "outputs": []
    },
    {
      "cell_type": "markdown",
      "metadata": {
        "id": "NzoZcSpDlC4q"
      },
      "source": [
        "O salário estimado parece não influenciar no cancelamento ou não do serviço bancário.\n",
        "\n",
        "* **Variável Idade**"
      ]
    },
    {
      "cell_type": "code",
      "metadata": {
        "id": "Py5tYfE5lERb"
      },
      "source": [
        "df_plot = df.groupby ('Age'). Exited.mean (). reset_index () \n",
        "#Número de produtos em relação a variável churn\n",
        "x =df_plot['Age']\n",
        "y=df_plot['Exited']\n",
        "plt.scatter(x,y)\n",
        "plt.title('Taxa de Churn em relação a Idade')\n",
        "plt.xlabel('Idade')\n",
        "plt.ylabel('Taxa de Churn')"
      ],
      "execution_count": null,
      "outputs": []
    },
    {
      "cell_type": "code",
      "metadata": {
        "id": "t9sSWA3vlJ-S"
      },
      "source": [
        "#box-plot Idade pelo Churn\n",
        "sns.boxplot(x=\"Exited\", y=\"Age\" , data=df,palette=cols);\n",
        "plt.xlabel('Churn');\n",
        "plt.ylabel('Idade');\n",
        "df.groupby(['Exited'])['Age'].mean()"
      ],
      "execution_count": null,
      "outputs": []
    },
    {
      "cell_type": "markdown",
      "metadata": {
        "id": "X7w2HhhxliN9"
      },
      "source": [
        "Observa-se, pelo boxplot, que clientes que cancelaram o serviço têm uma idade maior do que os clientes que não cancelaram o serviço. E ainda analisando o boxplot, observa-se a presença de outliers (pontos discrepantes).\n",
        "\n",
        "Pelo gráfico de dispersão, entre a taxa de Churn e a idade, observa-se  que pessoas entre 50 e 60 anos tem uma alta taxa de Churn e clientes com mais de 75 anos tem risco quase zero de abandonar os serviços bancários.\n",
        "\n",
        "* **Variável Escore de Crédito**"
      ]
    },
    {
      "cell_type": "code",
      "metadata": {
        "id": "7jB7onMolmS_"
      },
      "source": [
        "#box-plot score do cliente em relação ao churn\n",
        "\n",
        "sns.boxplot(x=\"Exited\", y=\"CreditScore\" , data=df,palette=cols);\n",
        "plt.xlabel('Churn');\n",
        "plt.ylabel('Score de crédito');\n",
        "df.groupby(['Exited'])['CreditScore'].mean()"
      ],
      "execution_count": null,
      "outputs": []
    },
    {
      "cell_type": "code",
      "metadata": {
        "id": "RSzQEzvPlpUH"
      },
      "source": [
        "#Número de produtos em relação a variável churn\n",
        "df_plot = df.groupby ('CreditScore'). Exited.mean (). reset_index () \n",
        "\n",
        "x =df_plot['CreditScore']\n",
        "y=df_plot['Exited']\n",
        "plt.scatter(x,y)\n",
        "plt.title('Taxa de Churn em relação ao Score de Crédito')\n",
        "plt.xlabel('Score de Crédito')\n",
        "plt.ylabel('Taxa de Churn')"
      ],
      "execution_count": null,
      "outputs": []
    },
    {
      "cell_type": "markdown",
      "metadata": {
        "id": "CwHu-xXClyl9"
      },
      "source": [
        "Analisando o boxplot, a variável pontuação de crédito no geral não possui grandes diferença em relação ao Churn de clientes. Porém, o boxplot dos clientes que cancelaram o serviço, possuí observações outliers na parte inferior e um limite inferior menor do que o boxplot dos clientes que não cancelaram o contrato. Indicando assim, que clientes que cancelaram o serviço possuem um score menor do que os clientes que não cancelaram o serviço.\n",
        "\n",
        "Quando observamos o gráfico de dispersão da taxa de Churn em relação a pontuação de crédito, essa evidência fica mais clara, a taxa de Churn é maior entre os clientes com baixo escore de crédito. \n",
        "\n",
        "Ou seja, clientes com alto risco de serem inadimplentes também tem uma propensão maior de Churn."
      ]
    },
    {
      "cell_type": "markdown",
      "metadata": {
        "id": "_HGmLCbel3vm"
      },
      "source": [
        "# **Conclusão Parte II - Visualização de Dados**\n",
        "\n",
        "Analisando o histórico de clientes, observamos algumas características entre os clientes que cancelaram o serviço. \n",
        "\n",
        "Observa-se que clientes da Alemanha, do sexo feminino, que não são membro ativo, com alto número de produtos, score de crédito baixo, com saldo bancário elevado e com idade entre 50 e 60 anos têm uma taxa de Churn maior que os outros clientes.\n",
        "\n",
        "Assim, clientes com essas características possui um risco maior de cancelarem o serviço bancário.\n",
        "\n",
        "Nessa parte II, analisamos o perfil dos clientes que deram o Churn. A análise exploratória dos dados se mostrou extremamente útil para identificar o perfil de clientes em evasão dos serviçoes.\n",
        "\n",
        "Na parte III, dessa série de artigos, iremos implementar um modelo de Churn para prever os clientes com um alto risco de Churn.\n",
        "\n",
        "Se ficou com alguma dúvida, deixe seu comentário e não se esqueça de rodar os códigos na sua máquina e começar a desenvolver na prática um projeto de Data Science."
      ]
    },
    {
      "cell_type": "markdown",
      "metadata": {
        "id": "sHLfCr-yVhze"
      },
      "source": [
        "###  Parte 2: Machine Learning\n",
        "Importando a biblioteca pandas para processar os dados."
      ]
    },
    {
      "cell_type": "code",
      "metadata": {
        "id": "8jmyY7xXXApZ"
      },
      "source": [
        ""
      ],
      "execution_count": null,
      "outputs": []
    }
  ]
}
